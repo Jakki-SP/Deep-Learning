{
 "cells": [
  {
   "cell_type": "markdown",
   "metadata": {},
   "source": [
    "# Churn Modelling\n",
    "\n",
    "### This dataset is taken from https://www.kaggle.com/shrutimechlearn/churn-modelling\n",
    "\n",
    "### This dataset contains the details of bank's customers and target variable ( whether the customer left the bank or not )"
   ]
  },
  {
   "cell_type": "code",
   "execution_count": 1,
   "metadata": {},
   "outputs": [],
   "source": [
    "# Set the working path\n",
    "import os\n",
    "os.chdir('D:\\\\2_p\\\\p\\\\Studies\\\\DS\\\\Projects\\\\DL\\\\ChurnModelling')"
   ]
  },
  {
   "cell_type": "markdown",
   "metadata": {},
   "source": [
    "## Preprocessing the Data"
   ]
  },
  {
   "cell_type": "code",
   "execution_count": 2,
   "metadata": {},
   "outputs": [],
   "source": [
    "# import the required libraries\n",
    "import numpy as np\n",
    "import matplotlib.pyplot as plt\n",
    "import pandas as pd"
   ]
  },
  {
   "cell_type": "code",
   "execution_count": 3,
   "metadata": {},
   "outputs": [
    {
     "data": {
      "text/html": [
       "<div>\n",
       "<style scoped>\n",
       "    .dataframe tbody tr th:only-of-type {\n",
       "        vertical-align: middle;\n",
       "    }\n",
       "\n",
       "    .dataframe tbody tr th {\n",
       "        vertical-align: top;\n",
       "    }\n",
       "\n",
       "    .dataframe thead th {\n",
       "        text-align: right;\n",
       "    }\n",
       "</style>\n",
       "<table border=\"1\" class=\"dataframe\">\n",
       "  <thead>\n",
       "    <tr style=\"text-align: right;\">\n",
       "      <th></th>\n",
       "      <th>RowNumber</th>\n",
       "      <th>CustomerId</th>\n",
       "      <th>Surname</th>\n",
       "      <th>CreditScore</th>\n",
       "      <th>Geography</th>\n",
       "      <th>Gender</th>\n",
       "      <th>Age</th>\n",
       "      <th>Tenure</th>\n",
       "      <th>Balance</th>\n",
       "      <th>NumOfProducts</th>\n",
       "      <th>HasCrCard</th>\n",
       "      <th>IsActiveMember</th>\n",
       "      <th>EstimatedSalary</th>\n",
       "      <th>Exited</th>\n",
       "    </tr>\n",
       "  </thead>\n",
       "  <tbody>\n",
       "    <tr>\n",
       "      <th>0</th>\n",
       "      <td>1</td>\n",
       "      <td>15634602</td>\n",
       "      <td>Hargrave</td>\n",
       "      <td>619</td>\n",
       "      <td>France</td>\n",
       "      <td>Female</td>\n",
       "      <td>42</td>\n",
       "      <td>2</td>\n",
       "      <td>0.00</td>\n",
       "      <td>1</td>\n",
       "      <td>1</td>\n",
       "      <td>1</td>\n",
       "      <td>101348.88</td>\n",
       "      <td>1</td>\n",
       "    </tr>\n",
       "    <tr>\n",
       "      <th>1</th>\n",
       "      <td>2</td>\n",
       "      <td>15647311</td>\n",
       "      <td>Hill</td>\n",
       "      <td>608</td>\n",
       "      <td>Spain</td>\n",
       "      <td>Female</td>\n",
       "      <td>41</td>\n",
       "      <td>1</td>\n",
       "      <td>83807.86</td>\n",
       "      <td>1</td>\n",
       "      <td>0</td>\n",
       "      <td>1</td>\n",
       "      <td>112542.58</td>\n",
       "      <td>0</td>\n",
       "    </tr>\n",
       "    <tr>\n",
       "      <th>2</th>\n",
       "      <td>3</td>\n",
       "      <td>15619304</td>\n",
       "      <td>Onio</td>\n",
       "      <td>502</td>\n",
       "      <td>France</td>\n",
       "      <td>Female</td>\n",
       "      <td>42</td>\n",
       "      <td>8</td>\n",
       "      <td>159660.80</td>\n",
       "      <td>3</td>\n",
       "      <td>1</td>\n",
       "      <td>0</td>\n",
       "      <td>113931.57</td>\n",
       "      <td>1</td>\n",
       "    </tr>\n",
       "    <tr>\n",
       "      <th>3</th>\n",
       "      <td>4</td>\n",
       "      <td>15701354</td>\n",
       "      <td>Boni</td>\n",
       "      <td>699</td>\n",
       "      <td>France</td>\n",
       "      <td>Female</td>\n",
       "      <td>39</td>\n",
       "      <td>1</td>\n",
       "      <td>0.00</td>\n",
       "      <td>2</td>\n",
       "      <td>0</td>\n",
       "      <td>0</td>\n",
       "      <td>93826.63</td>\n",
       "      <td>0</td>\n",
       "    </tr>\n",
       "    <tr>\n",
       "      <th>4</th>\n",
       "      <td>5</td>\n",
       "      <td>15737888</td>\n",
       "      <td>Mitchell</td>\n",
       "      <td>850</td>\n",
       "      <td>Spain</td>\n",
       "      <td>Female</td>\n",
       "      <td>43</td>\n",
       "      <td>2</td>\n",
       "      <td>125510.82</td>\n",
       "      <td>1</td>\n",
       "      <td>1</td>\n",
       "      <td>1</td>\n",
       "      <td>79084.10</td>\n",
       "      <td>0</td>\n",
       "    </tr>\n",
       "  </tbody>\n",
       "</table>\n",
       "</div>"
      ],
      "text/plain": [
       "   RowNumber  CustomerId   Surname  CreditScore Geography  Gender  Age  \\\n",
       "0          1    15634602  Hargrave          619    France  Female   42   \n",
       "1          2    15647311      Hill          608     Spain  Female   41   \n",
       "2          3    15619304      Onio          502    France  Female   42   \n",
       "3          4    15701354      Boni          699    France  Female   39   \n",
       "4          5    15737888  Mitchell          850     Spain  Female   43   \n",
       "\n",
       "   Tenure    Balance  NumOfProducts  HasCrCard  IsActiveMember  \\\n",
       "0       2       0.00              1          1               1   \n",
       "1       1   83807.86              1          0               1   \n",
       "2       8  159660.80              3          1               0   \n",
       "3       1       0.00              2          0               0   \n",
       "4       2  125510.82              1          1               1   \n",
       "\n",
       "   EstimatedSalary  Exited  \n",
       "0        101348.88       1  \n",
       "1        112542.58       0  \n",
       "2        113931.57       1  \n",
       "3         93826.63       0  \n",
       "4         79084.10       0  "
      ]
     },
     "execution_count": 3,
     "metadata": {},
     "output_type": "execute_result"
    }
   ],
   "source": [
    "# let us load the dataset & explore the features\n",
    "df = pd.read_csv('Churn_Modelling.csv')\n",
    "df.head()"
   ]
  },
  {
   "cell_type": "code",
   "execution_count": 4,
   "metadata": {},
   "outputs": [
    {
     "data": {
      "text/plain": [
       "(10000, 14)"
      ]
     },
     "execution_count": 4,
     "metadata": {},
     "output_type": "execute_result"
    }
   ],
   "source": [
    "df.shape"
   ]
  },
  {
   "cell_type": "code",
   "execution_count": 5,
   "metadata": {},
   "outputs": [],
   "source": [
    "# Create the X variables ( predictors ) & y ( target variable )\n",
    "X = df.iloc[:, 3:13]\n",
    "y = df.iloc[:, 13]"
   ]
  },
  {
   "cell_type": "code",
   "execution_count": 6,
   "metadata": {},
   "outputs": [],
   "source": [
    "# we have two categorical variables, let us create the dummies for them\n",
    "geography=pd.get_dummies(X[\"Geography\"],drop_first=True)\n",
    "gender=pd.get_dummies(X['Gender'],drop_first=True)"
   ]
  },
  {
   "cell_type": "code",
   "execution_count": 7,
   "metadata": {},
   "outputs": [],
   "source": [
    "# Concatenate these dummies to data frame\n",
    "X=pd.concat([X,geography,gender],axis=1)\n",
    "\n",
    "# and drop these columns\n",
    "X=X.drop(['Geography','Gender'],axis=1)"
   ]
  },
  {
   "cell_type": "code",
   "execution_count": 8,
   "metadata": {},
   "outputs": [
    {
     "data": {
      "text/html": [
       "<div>\n",
       "<style scoped>\n",
       "    .dataframe tbody tr th:only-of-type {\n",
       "        vertical-align: middle;\n",
       "    }\n",
       "\n",
       "    .dataframe tbody tr th {\n",
       "        vertical-align: top;\n",
       "    }\n",
       "\n",
       "    .dataframe thead th {\n",
       "        text-align: right;\n",
       "    }\n",
       "</style>\n",
       "<table border=\"1\" class=\"dataframe\">\n",
       "  <thead>\n",
       "    <tr style=\"text-align: right;\">\n",
       "      <th></th>\n",
       "      <th>CreditScore</th>\n",
       "      <th>Age</th>\n",
       "      <th>Tenure</th>\n",
       "      <th>Balance</th>\n",
       "      <th>NumOfProducts</th>\n",
       "      <th>HasCrCard</th>\n",
       "      <th>IsActiveMember</th>\n",
       "      <th>EstimatedSalary</th>\n",
       "      <th>Germany</th>\n",
       "      <th>Spain</th>\n",
       "      <th>Male</th>\n",
       "    </tr>\n",
       "  </thead>\n",
       "  <tbody>\n",
       "    <tr>\n",
       "      <th>0</th>\n",
       "      <td>619</td>\n",
       "      <td>42</td>\n",
       "      <td>2</td>\n",
       "      <td>0.00</td>\n",
       "      <td>1</td>\n",
       "      <td>1</td>\n",
       "      <td>1</td>\n",
       "      <td>101348.88</td>\n",
       "      <td>0</td>\n",
       "      <td>0</td>\n",
       "      <td>0</td>\n",
       "    </tr>\n",
       "    <tr>\n",
       "      <th>1</th>\n",
       "      <td>608</td>\n",
       "      <td>41</td>\n",
       "      <td>1</td>\n",
       "      <td>83807.86</td>\n",
       "      <td>1</td>\n",
       "      <td>0</td>\n",
       "      <td>1</td>\n",
       "      <td>112542.58</td>\n",
       "      <td>0</td>\n",
       "      <td>1</td>\n",
       "      <td>0</td>\n",
       "    </tr>\n",
       "    <tr>\n",
       "      <th>2</th>\n",
       "      <td>502</td>\n",
       "      <td>42</td>\n",
       "      <td>8</td>\n",
       "      <td>159660.80</td>\n",
       "      <td>3</td>\n",
       "      <td>1</td>\n",
       "      <td>0</td>\n",
       "      <td>113931.57</td>\n",
       "      <td>0</td>\n",
       "      <td>0</td>\n",
       "      <td>0</td>\n",
       "    </tr>\n",
       "    <tr>\n",
       "      <th>3</th>\n",
       "      <td>699</td>\n",
       "      <td>39</td>\n",
       "      <td>1</td>\n",
       "      <td>0.00</td>\n",
       "      <td>2</td>\n",
       "      <td>0</td>\n",
       "      <td>0</td>\n",
       "      <td>93826.63</td>\n",
       "      <td>0</td>\n",
       "      <td>0</td>\n",
       "      <td>0</td>\n",
       "    </tr>\n",
       "    <tr>\n",
       "      <th>4</th>\n",
       "      <td>850</td>\n",
       "      <td>43</td>\n",
       "      <td>2</td>\n",
       "      <td>125510.82</td>\n",
       "      <td>1</td>\n",
       "      <td>1</td>\n",
       "      <td>1</td>\n",
       "      <td>79084.10</td>\n",
       "      <td>0</td>\n",
       "      <td>1</td>\n",
       "      <td>0</td>\n",
       "    </tr>\n",
       "  </tbody>\n",
       "</table>\n",
       "</div>"
      ],
      "text/plain": [
       "   CreditScore  Age  Tenure    Balance  NumOfProducts  HasCrCard  \\\n",
       "0          619   42       2       0.00              1          1   \n",
       "1          608   41       1   83807.86              1          0   \n",
       "2          502   42       8  159660.80              3          1   \n",
       "3          699   39       1       0.00              2          0   \n",
       "4          850   43       2  125510.82              1          1   \n",
       "\n",
       "   IsActiveMember  EstimatedSalary  Germany  Spain  Male  \n",
       "0               1        101348.88        0      0     0  \n",
       "1               1        112542.58        0      1     0  \n",
       "2               0        113931.57        0      0     0  \n",
       "3               0         93826.63        0      0     0  \n",
       "4               1         79084.10        0      1     0  "
      ]
     },
     "execution_count": 8,
     "metadata": {},
     "output_type": "execute_result"
    }
   ],
   "source": [
    "X.head()"
   ]
  },
  {
   "cell_type": "code",
   "execution_count": 9,
   "metadata": {},
   "outputs": [],
   "source": [
    "# Create Training set and Test set\n",
    "from sklearn.model_selection import train_test_split\n",
    "X_train, X_test, y_train, y_test = train_test_split(X, y, test_size = 0.25, random_state = 7)"
   ]
  },
  {
   "cell_type": "code",
   "execution_count": 10,
   "metadata": {},
   "outputs": [],
   "source": [
    "# Apply the Feature Scaling\n",
    "from sklearn.preprocessing import StandardScaler\n",
    "sc = StandardScaler()\n",
    "X_train = sc.fit_transform(X_train)\n",
    "X_test = sc.transform(X_test)"
   ]
  },
  {
   "cell_type": "markdown",
   "metadata": {},
   "source": [
    "## Create the ANN"
   ]
  },
  {
   "cell_type": "code",
   "execution_count": 11,
   "metadata": {},
   "outputs": [
    {
     "name": "stderr",
     "output_type": "stream",
     "text": [
      "Using TensorFlow backend.\n",
      "C:\\ProgramData\\Anaconda3\\lib\\site-packages\\tensorflow\\python\\framework\\dtypes.py:526: FutureWarning: Passing (type, 1) or '1type' as a synonym of type is deprecated; in a future version of numpy, it will be understood as (type, (1,)) / '(1,)type'.\n",
      "  _np_qint8 = np.dtype([(\"qint8\", np.int8, 1)])\n",
      "C:\\ProgramData\\Anaconda3\\lib\\site-packages\\tensorflow\\python\\framework\\dtypes.py:527: FutureWarning: Passing (type, 1) or '1type' as a synonym of type is deprecated; in a future version of numpy, it will be understood as (type, (1,)) / '(1,)type'.\n",
      "  _np_quint8 = np.dtype([(\"quint8\", np.uint8, 1)])\n",
      "C:\\ProgramData\\Anaconda3\\lib\\site-packages\\tensorflow\\python\\framework\\dtypes.py:528: FutureWarning: Passing (type, 1) or '1type' as a synonym of type is deprecated; in a future version of numpy, it will be understood as (type, (1,)) / '(1,)type'.\n",
      "  _np_qint16 = np.dtype([(\"qint16\", np.int16, 1)])\n",
      "C:\\ProgramData\\Anaconda3\\lib\\site-packages\\tensorflow\\python\\framework\\dtypes.py:529: FutureWarning: Passing (type, 1) or '1type' as a synonym of type is deprecated; in a future version of numpy, it will be understood as (type, (1,)) / '(1,)type'.\n",
      "  _np_quint16 = np.dtype([(\"quint16\", np.uint16, 1)])\n",
      "C:\\ProgramData\\Anaconda3\\lib\\site-packages\\tensorflow\\python\\framework\\dtypes.py:530: FutureWarning: Passing (type, 1) or '1type' as a synonym of type is deprecated; in a future version of numpy, it will be understood as (type, (1,)) / '(1,)type'.\n",
      "  _np_qint32 = np.dtype([(\"qint32\", np.int32, 1)])\n",
      "C:\\ProgramData\\Anaconda3\\lib\\site-packages\\tensorflow\\python\\framework\\dtypes.py:535: FutureWarning: Passing (type, 1) or '1type' as a synonym of type is deprecated; in a future version of numpy, it will be understood as (type, (1,)) / '(1,)type'.\n",
      "  np_resource = np.dtype([(\"resource\", np.ubyte, 1)])\n"
     ]
    }
   ],
   "source": [
    "import keras\n",
    "from keras.models import Sequential\n",
    "from keras.layers import Dense\n",
    "from keras.layers import LeakyReLU,PReLU,ELU\n",
    "from keras.layers import Dropout"
   ]
  },
  {
   "cell_type": "code",
   "execution_count": 12,
   "metadata": {},
   "outputs": [],
   "source": [
    "# Initialising the ANN\n",
    "classifier = Sequential()"
   ]
  },
  {
   "cell_type": "code",
   "execution_count": 13,
   "metadata": {},
   "outputs": [
    {
     "name": "stdout",
     "output_type": "stream",
     "text": [
      "WARNING:tensorflow:From C:\\ProgramData\\Anaconda3\\lib\\site-packages\\tensorflow\\python\\ops\\resource_variable_ops.py:435: colocate_with (from tensorflow.python.framework.ops) is deprecated and will be removed in a future version.\n",
      "Instructions for updating:\n",
      "Colocations handled automatically by placer.\n"
     ]
    }
   ],
   "source": [
    "# Add the input layer and the first hidden layer\n",
    "classifier.add(Dense(units = 6, kernel_initializer = 'he_uniform',activation='relu',input_dim = 11))"
   ]
  },
  {
   "cell_type": "code",
   "execution_count": 14,
   "metadata": {},
   "outputs": [],
   "source": [
    "# Add the second hidden layer\n",
    "classifier.add(Dense(units = 6, kernel_initializer = 'he_uniform',activation='relu'))"
   ]
  },
  {
   "cell_type": "code",
   "execution_count": 15,
   "metadata": {},
   "outputs": [],
   "source": [
    "# Add the output layer\n",
    "classifier.add(Dense(units = 1, kernel_initializer = 'glorot_uniform', activation = 'sigmoid'))"
   ]
  },
  {
   "cell_type": "code",
   "execution_count": 16,
   "metadata": {},
   "outputs": [],
   "source": [
    "# Compile the ANN\n",
    "classifier.compile(optimizer = 'Adamax', loss = 'binary_crossentropy', metrics = ['accuracy'])"
   ]
  },
  {
   "cell_type": "code",
   "execution_count": 17,
   "metadata": {},
   "outputs": [
    {
     "name": "stdout",
     "output_type": "stream",
     "text": [
      "WARNING:tensorflow:From C:\\ProgramData\\Anaconda3\\lib\\site-packages\\tensorflow\\python\\ops\\math_ops.py:3066: to_int32 (from tensorflow.python.ops.math_ops) is deprecated and will be removed in a future version.\n",
      "Instructions for updating:\n",
      "Use tf.cast instead.\n",
      "Train on 5024 samples, validate on 2476 samples\n",
      "Epoch 1/100\n",
      "5024/5024 [==============================] - 1s 114us/step - loss: 0.7289 - accuracy: 0.6636 - val_loss: 0.5027 - val_accuracy: 0.7904\n",
      "Epoch 2/100\n",
      "5024/5024 [==============================] - 0s 82us/step - loss: 0.4756 - accuracy: 0.7976 - val_loss: 0.4594 - val_accuracy: 0.8069\n",
      "Epoch 3/100\n",
      "5024/5024 [==============================] - 0s 83us/step - loss: 0.4473 - accuracy: 0.8101 - val_loss: 0.4409 - val_accuracy: 0.8130\n",
      "Epoch 4/100\n",
      "5024/5024 [==============================] - 0s 83us/step - loss: 0.4345 - accuracy: 0.8165 - val_loss: 0.4329 - val_accuracy: 0.8187\n",
      "Epoch 5/100\n",
      "5024/5024 [==============================] - 0s 83us/step - loss: 0.4283 - accuracy: 0.8213 - val_loss: 0.4280 - val_accuracy: 0.8195\n",
      "Epoch 6/100\n",
      "5024/5024 [==============================] - 0s 83us/step - loss: 0.4252 - accuracy: 0.8207 - val_loss: 0.4253 - val_accuracy: 0.8215\n",
      "Epoch 7/100\n",
      "5024/5024 [==============================] - 0s 82us/step - loss: 0.4227 - accuracy: 0.8238 - val_loss: 0.4234 - val_accuracy: 0.8243\n",
      "Epoch 8/100\n",
      "5024/5024 [==============================] - 0s 83us/step - loss: 0.4204 - accuracy: 0.8244 - val_loss: 0.4209 - val_accuracy: 0.8239\n",
      "Epoch 9/100\n",
      "5024/5024 [==============================] - 0s 82us/step - loss: 0.4184 - accuracy: 0.8258 - val_loss: 0.4198 - val_accuracy: 0.8255\n",
      "Epoch 10/100\n",
      "5024/5024 [==============================] - 0s 86us/step - loss: 0.4164 - accuracy: 0.8242 - val_loss: 0.4177 - val_accuracy: 0.8251\n",
      "Epoch 11/100\n",
      "5024/5024 [==============================] - 0s 83us/step - loss: 0.4145 - accuracy: 0.8258 - val_loss: 0.4160 - val_accuracy: 0.8251\n",
      "Epoch 12/100\n",
      "5024/5024 [==============================] - 0s 86us/step - loss: 0.4123 - accuracy: 0.8262 - val_loss: 0.4145 - val_accuracy: 0.8259\n",
      "Epoch 13/100\n",
      "5024/5024 [==============================] - 0s 88us/step - loss: 0.4103 - accuracy: 0.8262 - val_loss: 0.4121 - val_accuracy: 0.8259\n",
      "Epoch 14/100\n",
      "5024/5024 [==============================] - 0s 89us/step - loss: 0.4075 - accuracy: 0.8274 - val_loss: 0.4096 - val_accuracy: 0.8275\n",
      "Epoch 15/100\n",
      "5024/5024 [==============================] - 0s 93us/step - loss: 0.4045 - accuracy: 0.8294 - val_loss: 0.4075 - val_accuracy: 0.8292\n",
      "Epoch 16/100\n",
      "5024/5024 [==============================] - 0s 91us/step - loss: 0.4013 - accuracy: 0.8302 - val_loss: 0.4042 - val_accuracy: 0.8296\n",
      "Epoch 17/100\n",
      "5024/5024 [==============================] - 0s 90us/step - loss: 0.3981 - accuracy: 0.8326 - val_loss: 0.4000 - val_accuracy: 0.8340\n",
      "Epoch 18/100\n",
      "5024/5024 [==============================] - 0s 91us/step - loss: 0.3943 - accuracy: 0.8328 - val_loss: 0.3957 - val_accuracy: 0.8368\n",
      "Epoch 19/100\n",
      "5024/5024 [==============================] - 0s 90us/step - loss: 0.3898 - accuracy: 0.8346 - val_loss: 0.3910 - val_accuracy: 0.8393\n",
      "Epoch 20/100\n",
      "5024/5024 [==============================] - 0s 86us/step - loss: 0.3854 - accuracy: 0.8382 - val_loss: 0.3869 - val_accuracy: 0.8417\n",
      "Epoch 21/100\n",
      "5024/5024 [==============================] - 0s 85us/step - loss: 0.3806 - accuracy: 0.8398 - val_loss: 0.3813 - val_accuracy: 0.8445\n",
      "Epoch 22/100\n",
      "5024/5024 [==============================] - 0s 87us/step - loss: 0.3754 - accuracy: 0.8453 - val_loss: 0.3765 - val_accuracy: 0.8477\n",
      "Epoch 23/100\n",
      "5024/5024 [==============================] - 0s 85us/step - loss: 0.3708 - accuracy: 0.8479 - val_loss: 0.3722 - val_accuracy: 0.8498\n",
      "Epoch 24/100\n",
      "5024/5024 [==============================] - 0s 85us/step - loss: 0.3666 - accuracy: 0.8499 - val_loss: 0.3673 - val_accuracy: 0.8526\n",
      "Epoch 25/100\n",
      "5024/5024 [==============================] - 0s 84us/step - loss: 0.3626 - accuracy: 0.8491 - val_loss: 0.3634 - val_accuracy: 0.8534\n",
      "Epoch 26/100\n",
      "5024/5024 [==============================] - 0s 86us/step - loss: 0.3593 - accuracy: 0.8505 - val_loss: 0.3613 - val_accuracy: 0.8530\n",
      "Epoch 27/100\n",
      "5024/5024 [==============================] - 0s 85us/step - loss: 0.3567 - accuracy: 0.8545 - val_loss: 0.3585 - val_accuracy: 0.8522\n",
      "Epoch 28/100\n",
      "5024/5024 [==============================] - 0s 85us/step - loss: 0.3540 - accuracy: 0.8541 - val_loss: 0.3560 - val_accuracy: 0.8550\n",
      "Epoch 29/100\n",
      "5024/5024 [==============================] - 0s 83us/step - loss: 0.3518 - accuracy: 0.8555 - val_loss: 0.3535 - val_accuracy: 0.8595\n",
      "Epoch 30/100\n",
      "5024/5024 [==============================] - 0s 85us/step - loss: 0.3499 - accuracy: 0.8559 - val_loss: 0.3522 - val_accuracy: 0.8595\n",
      "Epoch 31/100\n",
      "5024/5024 [==============================] - 0s 89us/step - loss: 0.3481 - accuracy: 0.8579 - val_loss: 0.3513 - val_accuracy: 0.8599\n",
      "Epoch 32/100\n",
      "5024/5024 [==============================] - 0s 84us/step - loss: 0.3468 - accuracy: 0.8591 - val_loss: 0.3499 - val_accuracy: 0.8599\n",
      "Epoch 33/100\n",
      "5024/5024 [==============================] - 0s 84us/step - loss: 0.3453 - accuracy: 0.8571 - val_loss: 0.3499 - val_accuracy: 0.8607\n",
      "Epoch 34/100\n",
      "5024/5024 [==============================] - 0s 87us/step - loss: 0.3442 - accuracy: 0.8569 - val_loss: 0.3490 - val_accuracy: 0.8611\n",
      "Epoch 35/100\n",
      "5024/5024 [==============================] - 0s 85us/step - loss: 0.3438 - accuracy: 0.8597 - val_loss: 0.3490 - val_accuracy: 0.8611\n",
      "Epoch 36/100\n",
      "5024/5024 [==============================] - 0s 86us/step - loss: 0.3428 - accuracy: 0.8587 - val_loss: 0.3494 - val_accuracy: 0.8615\n",
      "Epoch 37/100\n",
      "5024/5024 [==============================] - 0s 84us/step - loss: 0.3424 - accuracy: 0.8575 - val_loss: 0.3486 - val_accuracy: 0.8619\n",
      "Epoch 38/100\n",
      "5024/5024 [==============================] - 0s 84us/step - loss: 0.3419 - accuracy: 0.8585 - val_loss: 0.3474 - val_accuracy: 0.8631\n",
      "Epoch 39/100\n",
      "5024/5024 [==============================] - 0s 84us/step - loss: 0.3418 - accuracy: 0.8595 - val_loss: 0.3488 - val_accuracy: 0.8595\n",
      "Epoch 40/100\n",
      "5024/5024 [==============================] - 0s 84us/step - loss: 0.3412 - accuracy: 0.8603 - val_loss: 0.3476 - val_accuracy: 0.8627\n",
      "Epoch 41/100\n",
      "5024/5024 [==============================] - 0s 85us/step - loss: 0.3411 - accuracy: 0.8585 - val_loss: 0.3472 - val_accuracy: 0.8631\n",
      "Epoch 42/100\n",
      "5024/5024 [==============================] - 0s 85us/step - loss: 0.3411 - accuracy: 0.8603 - val_loss: 0.3474 - val_accuracy: 0.8607\n",
      "Epoch 43/100\n",
      "5024/5024 [==============================] - 0s 85us/step - loss: 0.3409 - accuracy: 0.8589 - val_loss: 0.3472 - val_accuracy: 0.8611\n",
      "Epoch 44/100\n",
      "5024/5024 [==============================] - 0s 83us/step - loss: 0.3407 - accuracy: 0.8613 - val_loss: 0.3466 - val_accuracy: 0.8619\n",
      "Epoch 45/100\n",
      "5024/5024 [==============================] - 0s 88us/step - loss: 0.3404 - accuracy: 0.8573 - val_loss: 0.3471 - val_accuracy: 0.8603\n",
      "Epoch 46/100\n",
      "5024/5024 [==============================] - 0s 90us/step - loss: 0.3403 - accuracy: 0.8617 - val_loss: 0.3462 - val_accuracy: 0.8607\n",
      "Epoch 47/100\n",
      "5024/5024 [==============================] - 0s 85us/step - loss: 0.3401 - accuracy: 0.8603 - val_loss: 0.3487 - val_accuracy: 0.8595\n",
      "Epoch 48/100\n",
      "5024/5024 [==============================] - 0s 84us/step - loss: 0.3401 - accuracy: 0.8603 - val_loss: 0.3467 - val_accuracy: 0.8595\n",
      "Epoch 49/100\n",
      "5024/5024 [==============================] - 0s 85us/step - loss: 0.3395 - accuracy: 0.8593 - val_loss: 0.3461 - val_accuracy: 0.8631\n",
      "Epoch 50/100\n",
      "5024/5024 [==============================] - 0s 83us/step - loss: 0.3399 - accuracy: 0.8619 - val_loss: 0.3460 - val_accuracy: 0.8607\n",
      "Epoch 51/100\n",
      "5024/5024 [==============================] - 0s 83us/step - loss: 0.3398 - accuracy: 0.8601 - val_loss: 0.3465 - val_accuracy: 0.8603\n",
      "Epoch 52/100\n",
      "5024/5024 [==============================] - 0s 85us/step - loss: 0.3394 - accuracy: 0.8607 - val_loss: 0.3467 - val_accuracy: 0.8611\n",
      "Epoch 53/100\n",
      "5024/5024 [==============================] - 0s 83us/step - loss: 0.3393 - accuracy: 0.8597 - val_loss: 0.3460 - val_accuracy: 0.8615\n",
      "Epoch 54/100\n",
      "5024/5024 [==============================] - 0s 84us/step - loss: 0.3389 - accuracy: 0.8595 - val_loss: 0.3458 - val_accuracy: 0.8635\n",
      "Epoch 55/100\n",
      "5024/5024 [==============================] - 0s 83us/step - loss: 0.3388 - accuracy: 0.8595 - val_loss: 0.3458 - val_accuracy: 0.8595\n",
      "Epoch 56/100\n",
      "5024/5024 [==============================] - 0s 87us/step - loss: 0.3382 - accuracy: 0.8619 - val_loss: 0.3469 - val_accuracy: 0.8607\n",
      "Epoch 57/100\n",
      "5024/5024 [==============================] - 0s 87us/step - loss: 0.3386 - accuracy: 0.8593 - val_loss: 0.3459 - val_accuracy: 0.8611\n",
      "Epoch 58/100\n",
      "5024/5024 [==============================] - 0s 88us/step - loss: 0.3384 - accuracy: 0.8583 - val_loss: 0.3452 - val_accuracy: 0.8627\n",
      "Epoch 59/100\n",
      "5024/5024 [==============================] - 0s 89us/step - loss: 0.3386 - accuracy: 0.8587 - val_loss: 0.3450 - val_accuracy: 0.8635\n",
      "Epoch 60/100\n",
      "5024/5024 [==============================] - 0s 87us/step - loss: 0.3386 - accuracy: 0.8605 - val_loss: 0.3454 - val_accuracy: 0.8615\n",
      "Epoch 61/100\n",
      "5024/5024 [==============================] - 0s 89us/step - loss: 0.3385 - accuracy: 0.8603 - val_loss: 0.3452 - val_accuracy: 0.8635\n",
      "Epoch 62/100\n",
      "5024/5024 [==============================] - 0s 85us/step - loss: 0.3379 - accuracy: 0.8601 - val_loss: 0.3471 - val_accuracy: 0.8611\n",
      "Epoch 63/100\n",
      "5024/5024 [==============================] - 0s 84us/step - loss: 0.3381 - accuracy: 0.8585 - val_loss: 0.3455 - val_accuracy: 0.8627\n",
      "Epoch 64/100\n",
      "5024/5024 [==============================] - 0s 87us/step - loss: 0.3380 - accuracy: 0.8599 - val_loss: 0.3461 - val_accuracy: 0.8603\n",
      "Epoch 65/100\n",
      "5024/5024 [==============================] - 0s 88us/step - loss: 0.3380 - accuracy: 0.8607 - val_loss: 0.3450 - val_accuracy: 0.8627\n",
      "Epoch 66/100\n",
      "5024/5024 [==============================] - 0s 84us/step - loss: 0.3379 - accuracy: 0.8603 - val_loss: 0.3446 - val_accuracy: 0.8627\n",
      "Epoch 67/100\n",
      "5024/5024 [==============================] - 0s 83us/step - loss: 0.3381 - accuracy: 0.8585 - val_loss: 0.3459 - val_accuracy: 0.8611\n",
      "Epoch 68/100\n",
      "5024/5024 [==============================] - 0s 86us/step - loss: 0.3377 - accuracy: 0.8591 - val_loss: 0.3448 - val_accuracy: 0.8615\n",
      "Epoch 69/100\n",
      "5024/5024 [==============================] - 0s 94us/step - loss: 0.3376 - accuracy: 0.8579 - val_loss: 0.3457 - val_accuracy: 0.8607\n",
      "Epoch 70/100\n",
      "5024/5024 [==============================] - 0s 95us/step - loss: 0.3379 - accuracy: 0.8589 - val_loss: 0.3445 - val_accuracy: 0.8631\n",
      "Epoch 71/100\n",
      "5024/5024 [==============================] - 0s 97us/step - loss: 0.3375 - accuracy: 0.8611 - val_loss: 0.3471 - val_accuracy: 0.8599\n",
      "Epoch 72/100\n",
      "5024/5024 [==============================] - 0s 84us/step - loss: 0.3376 - accuracy: 0.8597 - val_loss: 0.3477 - val_accuracy: 0.8607\n",
      "Epoch 73/100\n",
      "5024/5024 [==============================] - 0s 84us/step - loss: 0.3374 - accuracy: 0.8591 - val_loss: 0.3447 - val_accuracy: 0.8623\n",
      "Epoch 74/100\n",
      "5024/5024 [==============================] - 0s 84us/step - loss: 0.3372 - accuracy: 0.8603 - val_loss: 0.3449 - val_accuracy: 0.8635\n",
      "Epoch 75/100\n",
      "5024/5024 [==============================] - 0s 89us/step - loss: 0.3375 - accuracy: 0.8607 - val_loss: 0.3470 - val_accuracy: 0.8607\n",
      "Epoch 76/100\n",
      "5024/5024 [==============================] - 0s 95us/step - loss: 0.3371 - accuracy: 0.8595 - val_loss: 0.3455 - val_accuracy: 0.8611\n",
      "Epoch 77/100\n",
      "5024/5024 [==============================] - 0s 86us/step - loss: 0.3370 - accuracy: 0.8601 - val_loss: 0.3449 - val_accuracy: 0.8635\n",
      "Epoch 78/100\n",
      "5024/5024 [==============================] - 0s 83us/step - loss: 0.3373 - accuracy: 0.8577 - val_loss: 0.3448 - val_accuracy: 0.8631\n",
      "Epoch 79/100\n",
      "5024/5024 [==============================] - 0s 85us/step - loss: 0.3367 - accuracy: 0.8589 - val_loss: 0.3450 - val_accuracy: 0.8615\n",
      "Epoch 80/100\n",
      "5024/5024 [==============================] - 0s 85us/step - loss: 0.3367 - accuracy: 0.8595 - val_loss: 0.3451 - val_accuracy: 0.8643\n",
      "Epoch 81/100\n",
      "5024/5024 [==============================] - 0s 85us/step - loss: 0.3370 - accuracy: 0.8585 - val_loss: 0.3451 - val_accuracy: 0.8603\n",
      "Epoch 82/100\n",
      "5024/5024 [==============================] - 0s 84us/step - loss: 0.3368 - accuracy: 0.8607 - val_loss: 0.3460 - val_accuracy: 0.8603\n",
      "Epoch 83/100\n",
      "5024/5024 [==============================] - 0s 90us/step - loss: 0.3366 - accuracy: 0.8579 - val_loss: 0.3449 - val_accuracy: 0.8647\n",
      "Epoch 84/100\n",
      "5024/5024 [==============================] - 0s 85us/step - loss: 0.3367 - accuracy: 0.8613 - val_loss: 0.3451 - val_accuracy: 0.8623\n",
      "Epoch 85/100\n",
      "5024/5024 [==============================] - 0s 85us/step - loss: 0.3368 - accuracy: 0.8611 - val_loss: 0.3458 - val_accuracy: 0.8603\n",
      "Epoch 86/100\n",
      "5024/5024 [==============================] - 0s 84us/step - loss: 0.3364 - accuracy: 0.8609 - val_loss: 0.3453 - val_accuracy: 0.8611\n",
      "Epoch 87/100\n",
      "5024/5024 [==============================] - 0s 86us/step - loss: 0.3365 - accuracy: 0.8605 - val_loss: 0.3470 - val_accuracy: 0.8611\n",
      "Epoch 88/100\n",
      "5024/5024 [==============================] - 0s 87us/step - loss: 0.3366 - accuracy: 0.8601 - val_loss: 0.3453 - val_accuracy: 0.8631\n",
      "Epoch 89/100\n",
      "5024/5024 [==============================] - 0s 83us/step - loss: 0.3363 - accuracy: 0.8585 - val_loss: 0.3469 - val_accuracy: 0.8603\n",
      "Epoch 90/100\n",
      "5024/5024 [==============================] - 0s 87us/step - loss: 0.3364 - accuracy: 0.8591 - val_loss: 0.3455 - val_accuracy: 0.8627\n",
      "Epoch 91/100\n",
      "5024/5024 [==============================] - 0s 86us/step - loss: 0.3363 - accuracy: 0.8603 - val_loss: 0.3452 - val_accuracy: 0.8611\n",
      "Epoch 92/100\n",
      "5024/5024 [==============================] - 0s 87us/step - loss: 0.3354 - accuracy: 0.8641 - val_loss: 0.3449 - val_accuracy: 0.8627\n",
      "Epoch 93/100\n",
      "5024/5024 [==============================] - 0s 85us/step - loss: 0.3367 - accuracy: 0.8593 - val_loss: 0.3458 - val_accuracy: 0.8615\n",
      "Epoch 94/100\n",
      "5024/5024 [==============================] - 0s 86us/step - loss: 0.3361 - accuracy: 0.8591 - val_loss: 0.3454 - val_accuracy: 0.8619\n",
      "Epoch 95/100\n",
      "5024/5024 [==============================] - 0s 97us/step - loss: 0.3361 - accuracy: 0.8603 - val_loss: 0.3453 - val_accuracy: 0.8627\n",
      "Epoch 96/100\n",
      "5024/5024 [==============================] - 0s 89us/step - loss: 0.3362 - accuracy: 0.8611 - val_loss: 0.3457 - val_accuracy: 0.8627\n",
      "Epoch 97/100\n",
      "5024/5024 [==============================] - 0s 92us/step - loss: 0.3354 - accuracy: 0.8591 - val_loss: 0.3452 - val_accuracy: 0.8623\n",
      "Epoch 98/100\n",
      "5024/5024 [==============================] - 0s 88us/step - loss: 0.3357 - accuracy: 0.8601 - val_loss: 0.3452 - val_accuracy: 0.8631\n",
      "Epoch 99/100\n",
      "5024/5024 [==============================] - 0s 89us/step - loss: 0.3353 - accuracy: 0.8639 - val_loss: 0.3452 - val_accuracy: 0.8627\n",
      "Epoch 100/100\n",
      "5024/5024 [==============================] - 0s 94us/step - loss: 0.3355 - accuracy: 0.8601 - val_loss: 0.3453 - val_accuracy: 0.8631\n"
     ]
    }
   ],
   "source": [
    "# Fitting the ANN to the Training set\n",
    "model_history=classifier.fit(X_train, y_train,validation_split=0.33, batch_size = 10, epochs = 100)"
   ]
  },
  {
   "cell_type": "code",
   "execution_count": 18,
   "metadata": {},
   "outputs": [
    {
     "name": "stdout",
     "output_type": "stream",
     "text": [
      "dict_keys(['val_loss', 'val_accuracy', 'loss', 'accuracy'])\n"
     ]
    }
   ],
   "source": [
    "print(model_history.history.keys())"
   ]
  },
  {
   "cell_type": "code",
   "execution_count": 19,
   "metadata": {},
   "outputs": [
    {
     "data": {
      "image/png": "[encoded data removed]",
      "text/plain": [
       "<Figure size 432x288 with 1 Axes>"
      ]
     },
     "metadata": {
      "needs_background": "light"
     },
     "output_type": "display_data"
    }
   ],
   "source": [
    "# summarize history for accuracy\n",
    "plt.plot(model_history.history['accuracy'])\n",
    "plt.plot(model_history.history['val_accuracy'])\n",
    "plt.title('model accuracy')\n",
    "plt.ylabel('accuracy')\n",
    "plt.xlabel('epoch')\n",
    "plt.legend(['train', 'test'], loc='upper left')\n",
    "plt.show()"
   ]
  },
  {
   "cell_type": "markdown",
   "metadata": {},
   "source": [
    "## Making the predictions and evaluating the model"
   ]
  },
  {
   "cell_type": "code",
   "execution_count": 20,
   "metadata": {},
   "outputs": [],
   "source": [
    "# Predicting the Test set results\n",
    "y_pred = classifier.predict(X_test)\n",
    "y_pred = (y_pred > 0.5)"
   ]
  },
  {
   "cell_type": "code",
   "execution_count": 21,
   "metadata": {},
   "outputs": [
    {
     "name": "stdout",
     "output_type": "stream",
     "text": [
      "[[1900   90]\n",
      " [ 274  236]]\n"
     ]
    }
   ],
   "source": [
    "# Making the Confusion Matrix\n",
    "from sklearn.metrics import confusion_matrix\n",
    "cm = confusion_matrix(y_test, y_pred)\n",
    "print(cm)"
   ]
  },
  {
   "cell_type": "code",
   "execution_count": 22,
   "metadata": {},
   "outputs": [
    {
     "name": "stdout",
     "output_type": "stream",
     "text": [
      "0.8544\n"
     ]
    }
   ],
   "source": [
    "# Calculate the Accuracy\n",
    "from sklearn.metrics import accuracy_score\n",
    "score=accuracy_score(y_pred,y_test)\n",
    "print(score)"
   ]
  }
 ],
 "metadata": {
  "kernelspec": {
   "display_name": "Python 3",
   "language": "python",
   "name": "python3"
  },
  "language_info": {
   "codemirror_mode": {
    "name": "ipython",
    "version": 3
   },
   "file_extension": ".py",
   "mimetype": "text/x-python",
   "name": "python",
   "nbconvert_exporter": "python",
   "pygments_lexer": "ipython3",
   "version": "3.7.3"
  }
 },
 "nbformat": 4,
 "nbformat_minor": 2
}
